{
 "cells": [
  {
   "cell_type": "markdown",
   "id": "b6c7bdfd-c2dc-4a49-9725-bfca805d73a2",
   "metadata": {},
   "source": [
    "# Basics of Many-Body Spin Chains\n",
    "\n",
    "_This notebook explains how to use QuSpin to study some properties of quantum spin systems._\n",
    "\n",
    "QuSpin is an open-source Python package for exact diagonalization and quantum dynamics of arbitrary boson, fermion, and spin many-body systems. QuSpin supports the use of various (user-defined) symmetries for one and higher-dimensional lattice systems, (imaginary) time evolution following arbitrary user-specified driving protocols, and constrained Hilbert spaces.\n",
    "\n",
    "The complete **documentation** for `quspin`, including ***example codes***, is available online at [https://quspin.github.io/QuSpin/index.html](https://quspin.github.io/QuSpin/index.html).\n",
    "\n",
    "Here, we'll start simple and then slowly increase the level of complexity of the systems we discuss. "
   ]
  },
  {
   "cell_type": "markdown",
   "id": "ec2558e9-684c-4373-9650-498874e24d17",
   "metadata": {},
   "source": [
    "## Spin-$1/2$ system or Two-level system or Qubit\n",
    "\n",
    "1. Hilbert space: $\\mathbb{C}^2$ \n",
    "\n",
    "2. Available observables (hermitian operators):\n",
    "\n",
    "$$\n",
    "\\sigma^x = \\begin{pmatrix} 0 & 1 \\\\ 1 & 0 \\end{pmatrix},\\qquad\n",
    "\\sigma^y = \\begin{pmatrix} 0 & -i \\\\ i & 0 \\end{pmatrix},\\qquad\n",
    "\\sigma^z = \\begin{pmatrix} 1 & 0 \\\\ 0 & -1 \\end{pmatrix},\\qquad\n",
    "\\mathbb{1} = \\begin{pmatrix} 1 & 0 \\\\ 0 & 1 \\end{pmatrix}.\n",
    "$$\n",
    "\n",
    "3. Raising and lowering operators:\n",
    "\n",
    "$$\n",
    "\\sigma^+ = \\frac{1}{2}(\\sigma^x + i\\sigma^y) = \\begin{pmatrix} 0 & 1 \\\\ 0 & 0 \\end{pmatrix},\\qquad\n",
    "\\sigma^- = \\frac{1}{2}(\\sigma^x - i\\sigma^y) = \\begin{pmatrix} 0 & 0 \\\\ 1 & 0 \\end{pmatrix}.\n",
    "$$\n",
    "\n",
    "4. Quantum states can be parametrized by two angles $\\varphi\\in[0,2\\pi)$ and $\\theta\\in[0,\\pi]$:\n",
    "\n",
    "$$\n",
    "|\\psi_+\\rangle = e^{i\\alpha}\\begin{pmatrix} \\cos(\\theta/2) \\\\ e^{i\\varphi} \\sin(\\theta/2) \\end{pmatrix}, \\qquad\n",
    "|\\psi_-\\rangle = e^{i\\alpha'}\\begin{pmatrix} \\sin(\\theta/2) \\\\ -e^{i\\varphi} \\cos(\\theta/2) \\end{pmatrix}\n",
    "$$\n",
    "\n",
    "Each state can be represented on the Bloch sphere, defined by the unit vector\n",
    "\n",
    "$$\n",
    "\\langle\\psi_\\pm|\\vec\\sigma |\\psi_\\pm\\rangle \n",
    "= \\pm \\begin{pmatrix} \\sin\\theta\\cos\\varphi \\\\ \\sin\\theta\\sin\\varphi \\\\ \\cos\\theta \\end{pmatrix} \n",
    "=: \\pm\\frac{\\vec h}{|\\vec h|} \n",
    "$$\n",
    "\n",
    "5. The most general Hamiltonian: \n",
    "\n",
    "$$H = h_x\\sigma^x + h_y\\sigma^y + h_z\\sigma^z = \\vec{h}\\cdot\\vec{\\sigma}$$\n",
    "\n",
    "has eigenenergies and eigenstates given by $H|{\\psi_\\pm}\\rangle = E_\\pm |{\\psi_\\pm}\\rangle$ with $E_\\pm = \\pm|\\vec{h}|$.\n",
    "\n",
    "How do we code this in `quspin`?\n"
   ]
  },
  {
   "cell_type": "code",
   "execution_count": 112,
   "id": "3a7c679c-8985-4745-989d-c9fe263f4f5d",
   "metadata": {},
   "outputs": [],
   "source": [
    "import sys,os\n",
    "\n",
    "# adjust the path below to your local quspin installation\n",
    "quspin_path = os.path.join(os.path.expanduser('~'),\"./quspin/QuSpin_dev\")\n",
    "sys.path.insert(0,quspin_path)\n",
    "\n",
    "os.environ['KMP_DUPLICATE_LIB_OK']='True' # uncomment this line if omp error occurs on OSX for python 3\n",
    "os.environ['OMP_NUM_THREADS']='4' # set number of OpenMP threads to run in parallel\n",
    "os.environ['MKL_NUM_THREADS']='1' # set number of MKL threads to run in parallel\n",
    "\n",
    "# import plotting tool\n",
    "from matplotlib import pyplot as plt\n",
    "plt.rcParams.update({\n",
    "    \"text.usetex\": True,\n",
    "    \"font.family\": \"Helvetica\",\n",
    "    \"font.size\": \"16\",\n",
    "})\n",
    "%matplotlib inline\n",
    "\n",
    "# import numpy\n",
    "import numpy as np\n",
    "# suppress machine precision; print numbers up to three decimals\n",
    "np.set_printoptions(suppress=True,precision=3) "
   ]
  },
  {
   "cell_type": "markdown",
   "id": "48e896fc-1805-4bd1-a857-8a4aeeed9192",
   "metadata": {},
   "source": [
    "### Defining `basis` objects in `quspin`\n",
    "\n",
    "To define the Hilbert space, we will construct its basis. To do this in `quspin`, we call the basis constructor `spin_basis_1d`. This works as follows:"
   ]
  },
  {
   "cell_type": "code",
   "execution_count": 113,
   "id": "a2aead8d-e01b-433b-b8ce-fb5e423199d9",
   "metadata": {},
   "outputs": [
    {
     "name": "stdout",
     "output_type": "stream",
     "text": [
      "reference states: \n",
      "array index   /   Fock state   /   integer repr. \n",
      " 0.  |1>  1 \n",
      " 1.  |0>  0 \n"
     ]
    }
   ],
   "source": [
    "from quspin.basis import spin_basis_1d\n",
    "\n",
    "basis_1 = spin_basis_1d(L=1) # single spin-1/2 particle / qubit / two-level system\n",
    "print(basis_1)"
   ]
  },
  {
   "cell_type": "markdown",
   "id": "8be6ef71-b97b-413b-bf4e-92eec790e3c7",
   "metadata": {},
   "source": [
    "Notice that this is the Pauli-$z$ (or $\\sigma^z$) eigenbasis. This is the default basis in which `quspin` works; you can then transform to any other basis by applying a unitary operation. The $z$-basis is often called the _computational basis_. \n",
    "\n",
    "Quantum states are represented by `numpy` arrays. To be able to define the states we want, notice that:\n",
    "\n",
    "* the array index in the basis above defines the array entry index for a given basis state. This means that if you expand any state as $|\\psi\\rangle = a|\\uparrow\\rangle + b|\\downarrow\\rangle$, you can read off the expansion coefficients $a,b$ from the vector array.\n",
    "  \n",
    "* the second column shows the Fock states representation of the state; here we use the convention $|\\uparrow\\rangle = |1\\rangle$, $|\\downarrow\\rangle=|0\\rangle$.\n",
    "\n",
    "* the last column is the integer representation of the state; we'll see what this means later (you can ingnore it for now).\n",
    "\n",
    "Now, let us construct a few states to see how that works in practice:"
   ]
  },
  {
   "cell_type": "code",
   "execution_count": 114,
   "id": "29d7da85-a12a-48ad-b3fe-194e2169e920",
   "metadata": {},
   "outputs": [
    {
     "name": "stdout",
     "output_type": "stream",
     "text": [
      "\n",
      "|down> = [0. 1.]\n",
      "\n",
      "|up> = [1. 0.]\n",
      "|+> = \n",
      "1/sqrt(2)(|0>+|1>) = [0.707 0.707]\n"
     ]
    }
   ],
   "source": [
    "# define state |0> = |down>\n",
    "psi_down = np.array([0.0,1.0])\n",
    "print('\\n|down> = {0}'.format(psi_down) )\n",
    "\n",
    "# define state |1> = |up>\n",
    "psi_up = np.array([1.0,0.0])\n",
    "print('\\n|up> = {0}'.format(psi_up) )\n",
    "\n",
    "# define a superposition state: (|0>+|1>)/sqrt(2)\n",
    "psi_plus = np.array([1.0,1.0])/np.sqrt(2)\n",
    "print('|+> = \\n1/sqrt(2)(|0>+|1>) = {0}'.format(psi_plus) )"
   ]
  },
  {
   "cell_type": "markdown",
   "id": "24c8b23b-904b-4de7-a78f-143a8e44f2b6",
   "metadata": {},
   "source": [
    "### Computing state overlaps\n",
    "\n",
    "... is straightforward:"
   ]
  },
  {
   "cell_type": "code",
   "execution_count": 115,
   "id": "e3048898-2b23-48ec-9528-2c36ff1c2f7b",
   "metadata": {},
   "outputs": [
    {
     "name": "stdout",
     "output_type": "stream",
     "text": [
      "\n",
      "<up|+> = 0.7071067811865475\n",
      "\n",
      "|<up|+>|^2 = 0.4999999999999999\n"
     ]
    }
   ],
   "source": [
    "# compute overlap <up|+> \n",
    "overlap = psi_up.conj() @ psi_plus\n",
    "print('\\n<up|+> = {0}'.format(overlap) )\n",
    "\n",
    "# compute overlap squared |<up|+>|^2 \n",
    "print('\\n|<up|+>|^2 = {0}'.format(np.abs(overlap)**2) )"
   ]
  },
  {
   "cell_type": "markdown",
   "id": "95b8cb11-86b2-456f-a47d-5227aaf73e77",
   "metadata": {},
   "source": [
    "### Constructing single-spin Hamiltonians in `quspin`\n",
    "\n",
    "Now that we've defined the basis (and implicitly our Hilbert space), we can move to the description of quantum systems. \n",
    "\n",
    "Hamiltonians and general operators are defined using the `hamiltonian` constructor of QuSpin's `quantum_operators` module. \n",
    "\n",
    "As we saw above, the most general Hamiltonian for a single spin takes the form $H = h_x\\sigma^x + h_y\\sigma^y + h_z\\sigma^z$. To implement it, we need to define the coupling strengths $h_\\alpha$ and the corresponding Pauli matrices. \n",
    "\n",
    "Technically, in `quspin` we need to give a label to the spin degree of freedom; let's give the spin the index label 0.  The procedure then goes like this: "
   ]
  },
  {
   "cell_type": "code",
   "execution_count": 116,
   "id": "0e290ddb-a4b7-4c90-a66d-372a3fccc9e8",
   "metadata": {},
   "outputs": [
    {
     "name": "stdout",
     "output_type": "stream",
     "text": [
      "Hermiticity check passed!\n",
      "Symmetry checks passed!\n"
     ]
    }
   ],
   "source": [
    "from quspin.operators import hamiltonian\n",
    "\n",
    "# define coupling strengths \n",
    "hx, hy, hz = 1.0, 1.0, 1.0 \n",
    "\n",
    "# associate each coupling to the spin labeled 0\n",
    "hx_list = [[hx,0],] # coupling: hx multiplies spin labeled 0\n",
    "hy_list = [[hy,0],] # coupling: hy multiplies spin labeled 0 \n",
    "hz_list = [[hz,0],] # coupling: hz multiplies spin labeled 0\n",
    "\n",
    "# associate a Pauli matrix to each coupling list\n",
    "static_terms = [['x',hx_list], # assign coupling list hx_list to Pauli operator sigma^x\n",
    "    \t\t    ['y',hy_list], # assign coupling list hy_list to Pauli operator sigma^y\n",
    "    \t\t    ['z',hz_list], # assign coupling list hz_list to Pauli operator sigma^z\n",
    "    \t\t   ]\n",
    "dynamic_terms = [] # ignore this for the time being (we'll come to it later)\n",
    "\n",
    "# construct Hamiltonian in the single-spin basis defined above\n",
    "H_1 = hamiltonian(static_terms, dynamic_terms, basis=basis_1,)"
   ]
  },
  {
   "cell_type": "markdown",
   "id": "f58dccef-9816-4fc4-964f-545eaa1bef98",
   "metadata": {},
   "source": [
    "A few remarks:\n",
    "* if the many lists of lists look cumbersome and unnecessary to you, just wait to generalize this to more complex spin chains and you'll see where this notation comes from.\n",
    "* note the messages on hermiticity and symmetry checks; `quspin` performs checks under the hood to make sure you don't mess things up by mistake. You can disable these by passing the flags `check_herm=False`, `check_symm=False`, etc. (see [online documentation](https://quspin.github.io/QuSpin/generated/quspin.operators.hamiltonian.html#quspin.operators.hamiltonian)). Be extra careful when disabling the checks. \n",
    "\n",
    "The Hamiltonian is a special `hamiltonian` object which contains a static and a dynamic matrix (empty, ignore for now). The static part is a sparse matrix whose entries are displayed below:"
   ]
  },
  {
   "cell_type": "code",
   "execution_count": 117,
   "id": "97b2b804-02d1-4909-abb8-6a5e4d0a14fc",
   "metadata": {},
   "outputs": [
    {
     "name": "stdout",
     "output_type": "stream",
     "text": [
      "static mat: \n",
      "  (0, 0)\t(1+0j)\n",
      "  (0, 1)\t(1-1j)\n",
      "  (1, 0)\t(1+1j)\n",
      "  (1, 1)\t(-1+0j)\n",
      "\n",
      "\n",
      "dynamic:\n",
      "\n"
     ]
    }
   ],
   "source": [
    "print(H_1)"
   ]
  },
  {
   "cell_type": "markdown",
   "id": "cab307b1-217d-4a10-b6ff-de6dd1b7a391",
   "metadata": {},
   "source": [
    "Once constructed, you can also cast the Hamiltonian into a `numpy` or `scipy` array of different kinds, and manipulate it however you like using conventional `numpy` and `scipy` routines."
   ]
  },
  {
   "cell_type": "code",
   "execution_count": 118,
   "id": "8cf917ba-91a3-48e7-be5c-3817465e14b6",
   "metadata": {},
   "outputs": [
    {
     "name": "stdout",
     "output_type": "stream",
     "text": [
      "cast as a dense array:\n",
      "[[ 1.+0.j  1.-1.j]\n",
      " [ 1.+1.j -1.+0.j]]\n",
      "\n",
      "cast as a scipy csr (compressed sparse row) array:\n",
      "  (0, 0)\t(1+0j)\n",
      "  (0, 1)\t(1-1j)\n",
      "  (1, 0)\t(1+1j)\n",
      "  (1, 1)\t(-1+0j)\n",
      "\n",
      "cast as a scipy csc (compressed sparse column) array:\n",
      "  (0, 0)\t(1+0j)\n",
      "  (1, 0)\t(1+1j)\n",
      "  (0, 1)\t(1-1j)\n",
      "  (1, 1)\t(-1+0j)\n",
      "\n"
     ]
    }
   ],
   "source": [
    "print('cast as a dense array:\\n{}\\n'.format(H_1.toarray()))\n",
    "#\n",
    "print('cast as a scipy csr (compressed sparse row) array:\\n{}\\n'.format(H_1.tocsr()) )\n",
    "#\n",
    "print('cast as a scipy csc (compressed sparse column) array:\\n{}\\n'.format(H_1.tocsc()) )"
   ]
  },
  {
   "cell_type": "markdown",
   "id": "b676d1cd-986c-4ef4-b4af-48db4b3260df",
   "metadata": {},
   "source": [
    "### Applying `quspin` operators to states\n",
    "\n",
    "... is as easy as you can think, and goes using the `dot` method:"
   ]
  },
  {
   "cell_type": "code",
   "execution_count": 119,
   "id": "943c7f28-ead5-47ea-a42b-f6286d3c135c",
   "metadata": {},
   "outputs": [
    {
     "name": "stdout",
     "output_type": "stream",
     "text": [
      "\n",
      "|+> = [0.707 0.707]\n",
      "\n",
      "H_1|+> = [1.414-0.707j 0.   +0.707j]\n"
     ]
    }
   ],
   "source": [
    "phi = H_1.dot(psi_plus) # |phi> = H|+>\n",
    "\n",
    "print('\\n|+> = {}'.format(psi_plus) )\n",
    "\n",
    "print('\\nH_1|+> = {}'.format(phi) )"
   ]
  },
  {
   "cell_type": "markdown",
   "id": "c9d5ad2e-c402-4c4f-a67d-ada1dc4237d4",
   "metadata": {},
   "source": [
    "### Computing expectation values of observables \n",
    "\n",
    "... is also easy using the `expt_value` method of the `hamiltonian` class:"
   ]
  },
  {
   "cell_type": "code",
   "execution_count": 120,
   "id": "828bc887-f237-4c8d-8095-f43bbbee0eb7",
   "metadata": {},
   "outputs": [
    {
     "name": "stdout",
     "output_type": "stream",
     "text": [
      "\n",
      "<down|H|down> = (-1+0j)\n"
     ]
    }
   ],
   "source": [
    "# compute expectation value <down|H|down>\n",
    "expt_H_1_psi = H_1.expt_value(psi_down)\n",
    "\n",
    "print('\\n<down|H|down> = {}'.format(expt_H_1_psi) )"
   ]
  },
  {
   "cell_type": "markdown",
   "id": "117571fd-2ab4-4011-ab1e-6bd8f5659de9",
   "metadata": {},
   "source": [
    "Note that the imaginary part of the expectation vanishes, as it should; if displaying it annoys you, you can always cast the output to a real number using `.real`. We decided to keep the function more general, since: \n",
    "1. it's a good check you're doing things right, and \n",
    "2. the `expt_value` method can then be used for non-hermitian operators, such as $\\sigma^\\pm$. "
   ]
  },
  {
   "cell_type": "markdown",
   "id": "6e6e15b8-1db8-4899-a83c-4af3246143db",
   "metadata": {},
   "source": [
    "## Two coupled Spin-$1/2$ particles\n",
    "\n",
    "Let us now consider two spin particles, labeled by the index $j=0,1$. \n",
    "\n",
    "Each particle $j$ has its own set of Pauli matrices $\\sigma^\\alpha_j$, and $\\alpha=x,y,z,+,-$.\n",
    "\n",
    "Since we're now dealing with the Hilbert space $\\mathbb{C}^4 = \\mathbb{C}^2\\otimes \\mathbb{C}^2$ (one factor for each spin), we'd need to construct a new computational basis:"
   ]
  },
  {
   "cell_type": "code",
   "execution_count": 121,
   "id": "e87008da-4a35-4df1-b71c-5c4a16f01023",
   "metadata": {},
   "outputs": [
    {
     "name": "stdout",
     "output_type": "stream",
     "text": [
      "reference states: \n",
      "array index   /   Fock state   /   integer repr. \n",
      " 0.  |1 1>  3 \n",
      " 1.  |1 0>  2 \n",
      " 2.  |0 1>  1 \n",
      " 3.  |0 0>  0 \n"
     ]
    }
   ],
   "source": [
    "### two coupled spins / qubits\n",
    "basis_2 = spin_basis_1d(L=2)\n",
    "print(basis_2)"
   ]
  },
  {
   "cell_type": "markdown",
   "id": "fd12b21c-4ce9-4b35-a5d8-36c03b34720e",
   "metadata": {},
   "source": [
    "As before, the first column shows the index in the array, and can be used to read off state components/amplitudes, and operator matrix elements.\n",
    "\n",
    "The second column now shows the four two-spin basis states: $\\ket{11}, \\ket{10}, \\ket{01}, \\ket{00}$.\n",
    "\n",
    "The last column represents the integer representation of each basis state. As you can see, states in the computational basis are in one-to-one correspondence with bitstrings (i.e., strings consisting of 1's and 0's). One can then associate to each bitstring an integer number, shown in the last column. That's the integer representation of the state. Internally, quspin doesn't store large vectors; instead, it manipulates in a smart way the bitstrings (e.g., when applying operators to the states, etc.).  \n",
    "\n",
    "To find the bitstring corresponding to an integer, you can use built-in python functions:"
   ]
  },
  {
   "cell_type": "code",
   "execution_count": 122,
   "id": "ad05a805-efb1-45d1-9591-6a6c4627bbc3",
   "metadata": {},
   "outputs": [
    {
     "name": "stdout",
     "output_type": "stream",
     "text": [
      "\n",
      "the integer 1 corresponds to the bitstring of length 2: 01\n",
      "\n",
      "use quspin to map the integer 1 to a bitstring of length 2: |0 1>\n"
     ]
    }
   ],
   "source": [
    "# compute integer to its bit string\n",
    "bit_str = '{0:02b}'.format(1)\n",
    "print('\\nthe integer 1 corresponds to the bitstring of length 2: {}'.format(bit_str) )\n",
    "\n",
    "# map integer repr. to quant state\n",
    "print('\\nuse quspin to map the integer 1 to a bitstring of length 2: {}'.format(basis_2.int_to_state(1)) )"
   ]
  },
  {
   "cell_type": "markdown",
   "id": "a8176ff6-fbc1-4375-83b2-9d139488bb91",
   "metadata": {},
   "source": [
    "Conversely, one can also map a bit string to its integer representation using the `state_to_int` method of the `basis_2`:"
   ]
  },
  {
   "cell_type": "code",
   "execution_count": 123,
   "id": "15b4b46e-d1ba-4b39-959d-6cf7124a03e7",
   "metadata": {},
   "outputs": [
    {
     "name": "stdout",
     "output_type": "stream",
     "text": [
      "\n",
      "use quspin to map the quantum state |01> to its integer rep: 1\n"
     ]
    }
   ],
   "source": [
    "print('\\nuse quspin to map the quantum state |01> to its integer rep: {}'.format(basis_2.state_to_int('01')) )"
   ]
  },
  {
   "cell_type": "markdown",
   "id": "a16a3766-d2cc-4b3e-973c-4859be69606f",
   "metadata": {},
   "source": [
    "Recall the first column when printing the basis -- the array index. \n",
    "\n",
    "Perhaps more useful is the mapping from a given bitstring to the array index; this helps us define states more easily, especially in large spin systems. "
   ]
  },
  {
   "cell_type": "code",
   "execution_count": 124,
   "id": "ace9a2aa-1b57-41ef-9db2-860b16273f37",
   "metadata": {},
   "outputs": [
    {
     "name": "stdout",
     "output_type": "stream",
     "text": [
      "\n",
      "array index of a basis state |01>: 2\n"
     ]
    }
   ],
   "source": [
    "# find array index of a given basis state\n",
    "print('\\narray index of a basis state |01>: {}'.format(basis_2.index('01')) ) "
   ]
  },
  {
   "cell_type": "markdown",
   "id": "da41a6d1-e1b7-47b4-8640-1e198184530d",
   "metadata": {},
   "source": [
    "Now let's use these functions to create some interesting two-qubit states:"
   ]
  },
  {
   "cell_type": "code",
   "execution_count": 125,
   "id": "3cc3b97a-d9f4-460b-b7f3-ff4b507a9ace",
   "metadata": {},
   "outputs": [
    {
     "name": "stdout",
     "output_type": "stream",
     "text": [
      "\n",
      "state |01> = [0. 0. 1. 0.]\n",
      "\n",
      "Bell state 1/sqrt(2)(|01> + |10>) = [0.    0.707 0.707 0.   ]\n"
     ]
    }
   ],
   "source": [
    "### define state |01> \n",
    "psi_01 = np.zeros(basis_2.Ns) # initialize an empty array\n",
    "psi_01[basis_2.index('01')]=1.0 # set index corresponding to state '01' to value 1.0\n",
    "print('\\nstate |01> = {}'.format(psi_01) )\n",
    "\n",
    "### define state the Bell state 1/sqrt(2)(|01> + |10>) \n",
    "psi_Bell = np.zeros(basis_2.Ns) # empty array\n",
    "psi_Bell[basis_2.index('01')]=1.0 # set index corresponding to state '01' to value 1.0\n",
    "psi_Bell[basis_2.index('10')]=1.0 # set index corresponding to state '10' to value 1.0\n",
    "psi_Bell/=np.linalg.norm(psi_Bell) # normalize state\n",
    "print('\\nBell state 1/sqrt(2)(|01> + |10>) = {}'.format(psi_Bell) )"
   ]
  },
  {
   "cell_type": "markdown",
   "id": "dddd0203-3bb6-409a-a890-2a2c1fe010e9",
   "metadata": {},
   "source": [
    "### Constructing two-spin Hamiltonians in `quspin`\n",
    "\n",
    "Consider the two-spin anisotropic Heisenberg model, defined by the Hamiltonian\n",
    "\n",
    "$$H = \\frac{J_{xy}}{2}\\left(\\sigma^+_{0}\\sigma^-_1 + \\sigma^-_{0}\\sigma^+_1\\right) + J_{zz}\\sigma^z_{0}\\sigma^z_1. \n",
    "$$\n",
    "\n",
    "(in the isotropic limit, $J_{xy}=J_z$, it simploifies to $H = J\\;\\vec{\\sigma}_0\\cdot\\vec{\\sigma}_1$)\n",
    "\n",
    "Let's use `quspin` to define the anisotropic Heisenberg Hamiltonian.\n"
   ]
  },
  {
   "cell_type": "code",
   "execution_count": 126,
   "id": "f8d263f0-97ba-469a-ad44-e59dfe6a5015",
   "metadata": {},
   "outputs": [
    {
     "name": "stdout",
     "output_type": "stream",
     "text": [
      "Hermiticity check passed!\n",
      "Symmetry checks passed!\n",
      "\n",
      "2-spin Heisenberg Hamiltonian:\n",
      "[[ 1.+0.j  0.+0.j  0.+0.j  0.+0.j]\n",
      " [ 0.+0.j -1.+0.j  2.+0.j  0.+0.j]\n",
      " [ 0.+0.j  2.+0.j -1.+0.j  0.+0.j]\n",
      " [ 0.+0.j  0.+0.j  0.+0.j  1.+0.j]]\n",
      "\n"
     ]
    }
   ],
   "source": [
    "# define couplings\n",
    "Jxy, Jzz = 1.0, 1.0\n",
    "\n",
    "# define site-coupling lists\n",
    "Jxy_list = [[0.5*Jxy, 0,1],] # coupling strength Jxy/2 couples spin 0 and spin 1\n",
    "Jzz_list = [[Jzz, 0,1],] # coupling strength Jzz couples spin 0 and spin 1\n",
    "\n",
    "# associate the Pauli matrix terms to each coupling list\n",
    "H_terms = [['+-',Jxy_list], # + operator of spin 0 multiplies - operator of spin 1\n",
    "\t\t   ['-+',Jxy_list], # - operator of spin 0 multiplies + operator of spin 1\n",
    "\t\t   ['zz',Jzz_list], # z operator of spin 0 multiplies z operator of spin 1\n",
    "\t\t  ]\n",
    "# create Hamiltonian using basis_2\n",
    "H_Heis = hamiltonian(H_terms,[], basis=basis_2)\n",
    "#\n",
    "# print Hamiltonian matrix\n",
    "print('\\n2-spin Heisenberg Hamiltonian:\\n{}\\n'.format(H_Heis.toarray()) )"
   ]
  },
  {
   "cell_type": "markdown",
   "id": "cd3c34cd-62c6-43f1-b465-3845db002871",
   "metadata": {},
   "source": [
    "### Computing eigenstates and eigenenergies\n",
    "\n",
    "To diagonalize the Hamiltonian, we use the `eigh()` method of the `hamiltonian` constructor, which returns a tuple `(E,V)` containing the ordered e'energies `E` and the corresponding e'states stored in the _columns_ of `V`:"
   ]
  },
  {
   "cell_type": "code",
   "execution_count": 127,
   "id": "0adee619-0749-4d16-a77f-ca38dba850c8",
   "metadata": {},
   "outputs": [
    {
     "name": "stdout",
     "output_type": "stream",
     "text": [
      "\n",
      "e'energies (spectrum) = [-3.  1.  1.  1.]\n",
      "\n",
      "e'states stored in columns:\n",
      "[[ 0.   +0.j  1.   +0.j  0.   +0.j  0.   +0.j]\n",
      " [ 0.707+0.j  0.   +0.j  0.707-0.j  0.   +0.j]\n",
      " [-0.707-0.j  0.   +0.j  0.707+0.j  0.   +0.j]\n",
      " [ 0.   +0.j  0.   +0.j  0.   +0.j  1.   +0.j]]\n"
     ]
    }
   ],
   "source": [
    "# diagonalize Hamiltonian\n",
    "E, V = H_Heis.eigh()\n",
    "\n",
    "# ordered e'energies\n",
    "print(\"\\ne'energies (spectrum) = {}\".format(E) )\n",
    "# corresponding e'states in columns\n",
    "print(\"\\ne'states stored in columns:\\n{}\".format(V) ) \n",
    "\n",
    "# read off ground state (GS) and its energy \n",
    "E_GS, psi_GS = E[0], V[:,0]"
   ]
  },
  {
   "cell_type": "markdown",
   "id": "009698de-45db-443f-acae-418f69700dea",
   "metadata": {},
   "source": [
    "### Reduced density matrix and quantum entanglement\n",
    "\n",
    "Quantum entanglement is a measure of the quantum correlation between the spins. It is seen as a fundamentally quantum resource, and harnessing it is at the core of many ongoing quantum technology efforts. \n",
    "\n",
    "Recall that to quantify the entanglement between two qubits, we first need to trace out one of them and obtain the corresponding reduced density matrix $\\rho_1$:\n",
    "\n",
    "$$\\rho_1 = \\text{tr}_2 \\rho_{12},\\qquad \\rho_{12} = |\\psi\\rangle\\langle\\psi|,$$\n",
    "\n",
    "where the two-qubit system is in the pure state $|\\psi\\rangle\\in\\mathbb{C}^4$, and $\\rho_{12}=|\\psi\\rangle\\langle\\psi|$ is the corresponding density matrix. The subscript on the trace operation, $\\text{tr}_2$, indicates we're tracing only over the Hilbert space of qubit 2. Alternatively, one can trace out qubit 2, and compute the reduced density matrix for qubit 2, $\\rho_{2}$. \n",
    "\n",
    "The entanglement between two qubits in a _pure_ state can then be quantified by computing the *von Neumann entropy* of the reduced density matrix:\n",
    "\n",
    "$$ S_\\text{ent}^\\text{vN} = -\\text{tr} \\rho_1 \\log\\rho_1 = -\\text{tr} \\rho_2 \\log\\rho_2.$$\n",
    "\n",
    "However, this is only one measure for entanglement; there are more. A commonly used generalization of the von Neumann entropy is given by the so-called *Renyi-$\\alpha$ entropies*:\n",
    "\n",
    "$$ S_\\text{ent}^\\alpha = \\frac{1}{1-\\alpha}\\log \\text{tr} \\left( \\rho_1^\\alpha \\right), $$\n",
    "\n",
    "where $\\rho_1^\\alpha$ denotes the $\\alpha$-th power of $\\rho$ (in the sense of a matrix-valued function). You can convince yourself that $\\lim_{\\alpha\\to 1} S_\\text{ent}^\\alpha = S_\\text{ent}^\\text{vN}$, and hence the von Neumann entropy arises as a special case. \n",
    "\n",
    "All Renyi entropies capture quantum correlation in the same way as the vN entropy: in particular, they vanish for pure states and are maximal for maximally entangled states. However, as you can see from the above definition, they are computationally lighter to compute since the nonlinear $\\log$-operation is only carried out on numbers (as opposed to matrices).  Particularly useful is the Reniy-2 (i.e., $\\alpha=2$) entropy, which has even been measured in experiments with ultracold atoms in optical lattices. \n",
    "\n",
    "`quspin` allows us to easily compute Renyi entropies and reduced density matrices. To do this, we use the `ent_entropy()` method of the `basis` constructor, by inputting the pure $2$-qubit state (here `psi_GS`), and defining the subsystem to compute the reduced density matrix of (here `sub_sys_A=[0,]`):"
   ]
  },
  {
   "cell_type": "code",
   "execution_count": 128,
   "id": "5c501343-ea39-4e15-b735-273305727208",
   "metadata": {},
   "outputs": [
    {
     "name": "stdout",
     "output_type": "stream",
     "text": [
      "{'Sent_A': array(0.693)}\n"
     ]
    }
   ],
   "source": [
    "entropy = basis_2.ent_entropy(psi_GS, sub_sys_A=[0,],)\n",
    "print(entropy)"
   ]
  },
  {
   "cell_type": "markdown",
   "id": "68da29d0-6c67-45a5-86cb-5cf03a38fa93",
   "metadata": {},
   "source": [
    "As you see, this function returns a dictionary which contains the vN entropy of the reduced rensity matrix over `sub_sys_A`.\n",
    "\n",
    "We can also obtain the corresponding reduced density matrix:"
   ]
  },
  {
   "cell_type": "code",
   "execution_count": 129,
   "id": "e96a241a-5ff4-450f-8848-98c72346b18f",
   "metadata": {},
   "outputs": [
    {
     "name": "stdout",
     "output_type": "stream",
     "text": [
      "{'Sent_A': array(0.693), 'rdm_A': array([[0.5+0.j, 0. +0.j],\n",
      "       [0. +0.j, 0.5+0.j]])}\n"
     ]
    }
   ],
   "source": [
    "entropy = basis_2.ent_entropy(psi_GS, sub_sys_A=[0,],return_rdm='A', alpha=1)\n",
    "print(entropy)"
   ]
  },
  {
   "cell_type": "markdown",
   "id": "c1be23b1-0d82-4914-aa86-1268eee5d0b0",
   "metadata": {},
   "source": [
    "To read off the objects, we do"
   ]
  },
  {
   "cell_type": "code",
   "execution_count": 130,
   "id": "e11694c5-8f3f-4e6b-a5f2-0c33ad1ad0f2",
   "metadata": {},
   "outputs": [
    {
     "name": "stdout",
     "output_type": "stream",
     "text": [
      "\n",
      "vN entropy per spin = 0.6931471805599452\n",
      "\n",
      "reduced density matrix of subsystem A:\n",
      "[[0.5+0.j 0. +0.j]\n",
      " [0. +0.j 0.5+0.j]]\n"
     ]
    }
   ],
   "source": [
    "Sent_A = entropy['Sent_A']\n",
    "rdm_A = entropy['rdm_A']\n",
    "\n",
    "print('\\nvN entropy per spin = {}'.format(Sent_A) )\n",
    "print('\\nreduced density matrix of subsystem A:\\n{}'.format(rdm_A))"
   ]
  },
  {
   "cell_type": "markdown",
   "id": "428a624b-f903-4da4-9ccc-00deea471dd1",
   "metadata": {},
   "source": [
    "Moreover, by changing the value of the Renyi `alpha` parameter, we can also compute any of the Renyi entropies.\n",
    "\n",
    "Finally, note that by default `ent_entropy` computes the entropy per spin; you can toggle this option by using the flag `density=False`. For more information about this function, check out the documentation:\n",
    "\n",
    "[https://quspin.github.io/QuSpin/generated/quspin.basis.spin_basis_1d.html#quspin.basis.spin_basis_1d.ent_entropy](https://quspin.github.io/QuSpin/generated/quspin.basis.spin_basis_1d.html#quspin.basis.spin_basis_1d.ent_entropy)"
   ]
  },
  {
   "cell_type": "markdown",
   "id": "aa70aa5a-46e0-41d5-a72b-34cc4b28901e",
   "metadata": {},
   "source": [
    "### Using symmetries in `quspin`\n",
    "\n",
    "A quantum system is said to have a symmetry $S$ if its Hamiltonian $H$ commutes with the symmetry operator: $[H,S]=0$. By the spectral theorem for normal operators, one can then simultaneously diagonalize $S$ and $H$: this means that each eigenstate of $H$ can be chosen to also be an eigenstate of $S$; in turn, this implies that one can label the eigenstates $|{n,s}\\rangle$ of the Hamiltonian $H$, $H|{n}\\rangle = E_{n}|{n}\\rangle$, by the eigenvalues of the symmetry operator $S$: $S|{s}\\rangle = s|{s}\\rangle$. In other words,\n",
    "\n",
    "$$ H|{n,s}\\rangle = E_{n,s}|{n,s}\\rangle. $$\n",
    "\n",
    "More generally, one can decompose the Hilbert space into (a direct sum of) subspaces, one for each eigenvalue of $S$ (these subspaces are called irreducible representations of the symmetry group). The existence of a symmetry is equivalent to saying that states living in subspaces corresponding to different $s$-values, are not coupled by the Hamiltonian $H$; or, in other words, the Hamiltonian matrix is block diagonal. You have already seen this phenomenon in atomic physics when studying the hydrogen atom and discussing the corresponding selection rules: \n",
    "\n",
    "$$ H = \\begin{pmatrix} \\ddots & \\vdots & \\vdots &  \\vdots & \\\\ \\dots &  H_{s-1} & 0 & 0 & \\dots \\\\ \\dots & 0 & H_{s} & 0 & \\dots\\\\ \\dots & 0 & 0 & H_{s+1} & \\dots \\\\ \n",
    " & \\vdots & \\vdots & \\vdots & \\ddots  \\end{pmatrix} $$\n",
    "\n",
    "Let's take a look at a concrete example in our two-spin system.\n",
    "\n",
    "#### Spin exchange symmetry\n",
    "\n",
    "The Heisenberg Hamiltonian\n",
    "\n",
    "$$H = \\frac{J_{xy}}{2}\\left(\\sigma^+_{0}\\sigma^-_1 + \\sigma^-_{0}\\sigma^+_1\\right) + J_{zz}\\sigma^z_{0}\\sigma^z_1 $$\n",
    "\n",
    "remains unchanged if we swap the two spins, i.e., under the spin exchange transformation \n",
    "\n",
    "$$S: \\vec \\sigma_0\\leftrightarrow \\vec \\sigma_1.$$\n",
    "\n",
    "If you repeat the spin swap operation, you come back to where you started; hence, the spin exchange symmetry can be described by the $\\mathbb{Z}_2$ group. Moreover, it follows that $S^2 = \\mathbb{1}$; hence, the two eigenvalues of $S$ are $s=\\pm 1$. Here $s=+1$ corresponds to a symmetric wavefunction under spin exchange, whereas $s=-1$ -- to an antisymmetric wavefunction.  \n",
    "\n",
    "Therefore, the eigenvectors of $S$ in terms of the computational basis states are given by:\n",
    "\n",
    "$$ s=-1:\\qquad |{s=-1}\\rangle = \\frac{1}{\\sqrt 2} \\left( \\ket{10} - \\ket{01} \\right) $$\n",
    "\n",
    "$$ s=+1:\\qquad |{s=+1,m=-1}\\rangle = \\ket{00}, \\quad \n",
    "                              |{s=+1,m=0}\\rangle = \\frac{1}{\\sqrt 2} \\left( |{10}\\rangle + |{01}\\rangle \\right), \\quad\n",
    "                              |{s=+1,m=+1}\\rangle = |{11}\\rangle.\n",
    "$$\n",
    "\n",
    "These are the familiar single and triplet manifolds that you get when adding two spin-$1/2$ particles. \n",
    "\n",
    "The above analysis tells us that the Hilbert space $\\mathcal{H}=\\mathbb{C}^4$ can be split into two orthogonal subspaces (one for each eigenvalue, $s=\\pm 1$), of dimensions $1$ and $3$, respectively: $\\mathcal{H} = \\mathbb{C}\\oplus \\mathbb{C}^3$. Therefore, we expect the Hamiltonian to look like\n",
    "\n",
    "\n",
    "$$ H = \\begin{pmatrix} H_{-1}^{1\\times 1} & 0 \\\\ 0 & H_{+1}^{3\\times 3}  \\end{pmatrix}, $$\n",
    "\n",
    "where the notation $k\\times k$ indicates the size of the matrix in the block. Note that this structure emerges in the eigenbasis of $S$; therefore, the matrix elements will in general be different from those in the original basis. \n",
    "\n",
    "This analysis can easily become more cumbersome if you consider more complex symmetries, or take into account more spins; this is where `quspin` comes to help. It allows us to construct the Hamiltonian matrix in a fixed symmetry block (or sector). This can save memory and allows us to reach larger system sizes in our classical simulations of quantum spin chains. \n",
    "\n",
    "To implement the spin exchange symmetry, all we need to do is pass the flag `pblock=1` to the `basis` constructor; the value defines the symmetry sector:"
   ]
  },
  {
   "cell_type": "code",
   "execution_count": 131,
   "id": "0b53bf0e-e0db-410f-8713-e6f96fa521fb",
   "metadata": {},
   "outputs": [
    {
     "name": "stdout",
     "output_type": "stream",
     "text": [
      "reference states: \n",
      "array index   /   Fock state   /   integer repr. \n",
      " 0.  |1 1>  3 \n",
      " 1.  |1 0>  2 \n",
      " 2.  |0 0>  0 \n",
      "The states printed do NOT correspond to the physical states: see review arXiv:1101.3281 for more details about reference states for symmetry-reduced blocks.\n",
      "\n"
     ]
    }
   ],
   "source": [
    "basis_symm = spin_basis_1d(L=2, pblock=1)\n",
    "print(basis_symm)"
   ]
  },
  {
   "cell_type": "markdown",
   "id": "ffb3c8ec-5a51-4ff5-a50b-c9954709f00a",
   "metadata": {},
   "source": [
    "We note a few things:\n",
    "* the number of states reduced from 4 to 3 (as expected);\n",
    "* the array index is still a consecutive integer but the integer representation isn't anymore;\n",
    "* the code now displays a warning: `the states printed do NOT correspond to the physical states`.\n",
    "\n",
    "Let's focus on the last point: indeed, the states displayed stand for the three e'states in the triplet sector (see above). While $|{11}\\rangle$ and $|{00}\\rangle$ coincide with the original basis states, $|{10}\\rangle \\; \\widehat{=}\\;  \\left( |{10}\\rangle + |{01}\\rangle \\right)/\\sqrt{2} $ stands for the entire superposition. Thus, you have to be extra cautious when defining states and reading off matrix elements if symmetries are turned on.\n",
    "\n",
    "Constructing the Hamiltonian is now simple; we just need to pass the new basis object. As expected, it's a 3x3 matrix. Moreover, the three eigenvalues coincide exactly with three of the 4 eigenvalues we computed above. "
   ]
  },
  {
   "cell_type": "code",
   "execution_count": 132,
   "id": "23cb41dd-0dee-4ce1-a499-c8e4d4ee9826",
   "metadata": {},
   "outputs": [
    {
     "name": "stdout",
     "output_type": "stream",
     "text": [
      "Hermiticity check passed!\n",
      "Symmetry checks passed!\n",
      "\n",
      "2-spin Heisenberg model in with parity symmetry\n",
      "[[1.+0.j 0.+0.j 0.+0.j]\n",
      " [0.+0.j 1.+0.j 0.+0.j]\n",
      " [0.+0.j 0.+0.j 1.+0.j]]\n",
      "\n",
      "e'values in the p=+1 sector: [1. 1. 1.]\n"
     ]
    }
   ],
   "source": [
    "# create Hamiltonian\n",
    "H_Heis_symm = hamiltonian(H_terms,[], basis=basis_symm)\n",
    "#\n",
    "# print Hamiltonian matrix\n",
    "print('\\n2-spin Heisenberg model in with parity symmetry\\n{}'.format(H_Heis_symm.toarray()) )\n",
    "\n",
    "# print e'values\n",
    "E = H_Heis_symm.eigvalsh()\n",
    "print(\"\\ne'values in the p=+1 sector: {}\".format(E) )"
   ]
  },
  {
   "cell_type": "markdown",
   "id": "2c29a5f7-b828-4518-942b-e3291c418c68",
   "metadata": {},
   "source": [
    "`quspin` also allows you to use other symmetries: examples include:\n",
    "* reflection / parity:  $\\vec\\sigma_j \\to \\vec\\sigma_{L-j-1}$\n",
    "* on-site spin inversion: $|{1}\\rangle_j \\leftrightarrow |{0}\\rangle_j$\n",
    "* translation: $\\vec\\sigma_j \\to\\vec\\sigma_{j+1}$\n",
    "* various combinations of these\n",
    "* custom symmetries, see `spin_basis_general` and tutorial on [`user_basis`](https://quspin.github.io/QuSpin/user_basis.html) classes in the online documentation. \n",
    "  "
   ]
  },
  {
   "cell_type": "markdown",
   "id": "7402aaaa-9756-40aa-ac22-651849247fb8",
   "metadata": {},
   "source": [
    "## Spin chains\n",
    "\n",
    "### Quantum Ising and Heisenberg models\n",
    "\n",
    "Let's scale up the number of spins in our system; our first goal is to employ `quspin` and construct the Hamiltonian matrix for a few commonly used many-body spin models: \n",
    "* quantum Ising model (IM):\n",
    " \n",
    "    $$ H_\\text{Ising} = \\sum_{j=1}^{L-1} J\\sigma^z_{j+1}\\sigma^z_j +  \\sum_{j=1}^{L} h_x\\sigma^x_j + h_z\\sigma^z_j $$\n",
    "\n",
    "* Heisenberg model (abusing summation notation):\n",
    "      $$ H_\\text{Heis} = \\sum_{j} \\frac{J_{xy}}{2}\\left(\\sigma^+_{j+1}\\sigma^-_{j} + \\text{h.c.}\\right) + J_{zz}\\sigma^z_{j+1}\\sigma^z_j $$\n",
    "\n",
    "Below, we show how to do this for the Ising model; you can then try doing the same for the Heisenberg chain. "
   ]
  },
  {
   "cell_type": "code",
   "execution_count": 133,
   "id": "6f3e288f-7e4d-44e7-b258-7b559bdef208",
   "metadata": {},
   "outputs": [
    {
     "name": "stdout",
     "output_type": "stream",
     "text": [
      "Hermiticity check passed!\n",
      "Symmetry checks passed!\n",
      "\n",
      "Ising Hamiltonian matrix:\n",
      " [[19.+0.j  1.+0.j  1.+0.j ...  0.+0.j  0.+0.j  0.+0.j]\n",
      " [ 1.+0.j 15.+0.j  0.+0.j ...  0.+0.j  0.+0.j  0.+0.j]\n",
      " [ 1.+0.j  0.+0.j 13.+0.j ...  0.+0.j  0.+0.j  0.+0.j]\n",
      " ...\n",
      " [ 0.+0.j  0.+0.j  0.+0.j ... -3.+0.j  0.+0.j  1.+0.j]\n",
      " [ 0.+0.j  0.+0.j  0.+0.j ...  0.+0.j -1.+0.j  1.+0.j]\n",
      " [ 0.+0.j  0.+0.j  0.+0.j ...  1.+0.j  1.+0.j -1.+0.j]]\n",
      "\n",
      "\n",
      "GS energy = -13.572021834189934\n",
      "\n",
      "first excited state energy = -12.990977106165644\n",
      "\n"
     ]
    }
   ],
   "source": [
    "# system size / number of spins\n",
    "L = 10 \n",
    "\n",
    "# compute basis\n",
    "basis_ising = spin_basis_1d(L=L,)\n",
    "\n",
    "# define site-coupling lists\n",
    "Jzz_list = [[Jzz, j,j+1] for j in range(L-1)] # L-1 bonds\n",
    "hz_list = [[hz,j] for j in range(L)] # L sites\n",
    "hx_list = [[hx,j] for j in range(L)] # L sites\n",
    "\n",
    "# define Hamiltonian terms\n",
    "H_terms = [['zz',Jzz_list], \n",
    "\t\t   ['x',hx_list],\n",
    "\t\t   ['z',hz_list],\n",
    "\t\t  ]\n",
    "H_Ising = hamiltonian(H_terms,[], basis=basis_ising)\n",
    "\n",
    "# cast to array\n",
    "print('\\nIsing Hamiltonian matrix:\\n {}\\n'.format(H_Ising.toarray()) )\n",
    "\n",
    "# compute eigenenergies and eigenstates\n",
    "E, V = H_Ising.eigh()\n",
    "# ground state\n",
    "psi_GS = V[:,0]\n",
    "E_GS = E[0]\n",
    "print('\\nGS energy = {}'.format(E_GS) )\n",
    "# first-excited state\n",
    "psi_ex_1 = V[:,1]\n",
    "E_exc = E[1]\n",
    "print('\\nfirst excited state energy = {}\\n'.format(E_exc) )"
   ]
  },
  {
   "cell_type": "markdown",
   "id": "b15cc232-0779-4eb6-82e4-295040f16138",
   "metadata": {},
   "source": [
    "### Density of states\n",
    "\n",
    "We can now look at the density of states (DOS) $\\rho(E)$: \n",
    "\n",
    "$$ \\rho(E) = \\sum_{n} \\delta(E-E_n) $$\n",
    "\n",
    "where $E_n$ is an e'energy ($E_n\\leq E_{n+1}$), and the index $n$ runs over the entire spectrum.\n",
    "\n",
    "The DOS can be approximately calculated by computing the histogram over the _previously ordered_ spectrum; for ergodic spin chains, it resembles a Gaussian:"
   ]
  },
  {
   "cell_type": "code",
   "execution_count": 134,
   "id": "57b7759d-33f1-4fa4-89d1-127ee95e42c0",
   "metadata": {},
   "outputs": [
    {
     "data": {
      "image/png": "[encoded data removed]",
      "text/plain": [
       "<Figure size 640x480 with 1 Axes>"
      ]
     },
     "metadata": {},
     "output_type": "display_data"
    }
   ],
   "source": [
    "# compute histogram\n",
    "DOS, energy =  np.histogram(E, bins=50) # number of bins can be adjusted\n",
    "\n",
    "# plot histogram\n",
    "plt.plot(energy[1:], DOS) # energy array has one vertex more than the DOS array\n",
    "plt.xlabel('energy, $E/J$')\n",
    "plt.ylabel('$\\\\rho(E)$')\n",
    "plt.show()"
   ]
  },
  {
   "cell_type": "markdown",
   "id": "7567ebba-d84c-4406-b1bf-8f31cabc679d",
   "metadata": {},
   "source": [
    "### Entanglement in many-body spin chains\n",
    "\n",
    "The concepts of entanglement and Renyi entropies also generalize to many-body systems. When computing the entanglement entropy, we now have to specify the lattice sites contained in the reduced subsystem, i.e., `sub_sys_A`. \n",
    "\n",
    "Typically, this is taken to be the left half of the chain, but subsystem A need not be a contiguous region, e.g., it can be defined as a specific sublattice.  "
   ]
  },
  {
   "cell_type": "code",
   "execution_count": 135,
   "id": "bfc985a6-1b6b-4bda-af55-d6926206d42a",
   "metadata": {},
   "outputs": [
    {
     "name": "stdout",
     "output_type": "stream",
     "text": [
      "\n",
      "von Neumann entropy = 0.22695487032132466\n",
      "\n",
      "Renyi-2 entropy = 0.1188793781394525\n",
      "\n"
     ]
    }
   ],
   "source": [
    "# half-chain entanglement entropy of ground state\n",
    "vN_entropy = basis_ising.ent_entropy(psi_GS, sub_sys_A=[j for j in range(L//2)], alpha=1, density=False)\n",
    "print('\\nvon Neumann entropy = {}'.format(vN_entropy['Sent_A']) )\n",
    "\n",
    "# half-chain Reniy-2 entropy of ground state\n",
    "Renyi_entropy = basis_ising.ent_entropy(psi_GS, sub_sys_A=[j for j in range(L//2)], alpha=2, density=False)\n",
    "print('\\nRenyi-2 entropy = {}\\n'.format(Renyi_entropy['Sent_A']) )"
   ]
  },
  {
   "cell_type": "markdown",
   "id": "363c9209-66fe-495a-b987-2fcaa4739189",
   "metadata": {},
   "source": [
    "## Time evolution\n",
    "\n",
    "Let us now turn to the time evolution of quantum many-body spin systems. We discuss two types of dynamics (depending on the properties of the Hamiltonian):\n",
    "\n",
    "* ***quenches:*** given a quantum state $|{\\psi_0}\\rangle$ and a time-*independent* Hamiltonian $H$, in a quench we expose the state to a sudden turn on of the Hamiltonian and track its time evolution. The evolution of the state is then described by the solution to Schroedinger's equation:\n",
    "  $$ |{\\psi(t)}\\rangle = \\exp\\left(-i t H\\right)|{\\psi_0}\\rangle $$\n",
    "\n",
    "* ***drives:*** a driven quantum system is one where the initial state $\\ket{\\psi_0}$ evolves according to a time-*dependent* Hamiltonian $H(t)$. The time-evolved state can be formally written down with the help of a time-ordered exponential\n",
    "  $$ |{\\psi(t)}\\rangle = \\mathcal{T}_t \\exp\\left(-i \\int_0^t\\mathrm d s H(s) \\right)|{\\psi_0}\\rangle = \\lim_{\\substack{N\\to\\infty}} \\prod_{n=1}^N \\exp\\left(-i \\frac{t}{N} H\\left(n\\frac{t}{N}\\right) \\right)|{\\psi_0}\\rangle, $$\n",
    "where $N$ is the number of time steps of size $\\delta t$ such that $N\\delta t = t$.\n",
    "\n",
    "### Static Hamiltonians: quenches\n",
    "\n",
    "Time evolution under static Hamiltonians can be conveniently implemented using `quspin`. To this end, we first divide the time interval $t$ into many small steps of size $\\delta t$; the time-evolution operator then takes the form\n",
    "$$ \\exp\\left(-i t H\\right) = \\prod_{n=1}^N \\exp\\left(-i \\delta t H \\right) =: \\prod_{n=1}^N U(\\delta t),\\qquad U(\\delta t) = \\exp\\left(-i \\delta t H \\right) $$\n",
    "where $\\delta t = {t}/{N}$, and $N$ is _any_ integer.\n",
    "\n",
    "Suppose now we want to study the quench dynamics of the Schroedinger cat state<a name=\"footnote-1\"></a>[<sup>[1]</sup>](#footnote-1) of $L$ spins,\n",
    "$$ |{\\text{cat}}\\rangle = \\frac{1}{\\sqrt 2}\\left( |{00\\cdots 0}\\rangle + |{11\\cdots 1}\\rangle \\right), $$\n",
    "under the Ising Hamiltonian:\n",
    "$$ H_\\text{Ising} = \\sum_{j} J\\sigma^z_{j+1}\\sigma^z_j + h_x\\sigma^x_j + h_z\\sigma^z_j.$$\n",
    "\n",
    "We want to compute:\n",
    "1. the time-evolved state;\n",
    "2. the time-dependence of the expectation value of the energy $E(t) = \\langle{\\psi(t)}| H_\\text{Ising}|{\\psi(t)}\\rangle$;\n",
    "3. the evolution of the entanglement entropy $S_\\text{ent}^\\text{vN}(t)$ between the left and right halves of the spin chain.\n",
    "\n",
    "<sub><a name=\"footnote-1\"></a>[[1]](#footnote-1-1): This state is a superposition of two microscopic quantum states which, e.g., can represent Schroedinger's cat being both dead and alive, whence the name.</sub> \n"
   ]
  },
  {
   "cell_type": "code",
   "execution_count": 136,
   "id": "e5f8f002-3550-4c26-97a0-40190857d7bd",
   "metadata": {},
   "outputs": [
    {
     "data": {
      "image/png": "[encoded data removed]",
      "text/plain": [
       "<Figure size 640x480 with 1 Axes>"
      ]
     },
     "metadata": {},
     "output_type": "display_data"
    }
   ],
   "source": [
    "from scipy.sparse.linalg import expm # matrix exponential for sparse generators\n",
    "\n",
    "### define times vector and timestep\n",
    "N_timesteps = 101 # number of timesteps\n",
    "times, dt = np.linspace(0.0,5.0,N_timesteps, retstep=True)\n",
    "\n",
    "### compute unitary\n",
    "U_dt = expm(-1j*dt*H_Ising.tocsc()) # cast `hamiltonian' object H as a sparse matrix first\n",
    "\n",
    "### initial state: cat state (|00...0> + |11...1>)/sqrt(2)\n",
    "psi_cat = np.zeros(basis_ising.Ns) # empty array of size basis_ising.Ns = 2**L\n",
    "psi_cat[basis_ising.index('0'*L)]=1.0 # set index corresponding to state '00...0' to value 1.0\n",
    "psi_cat[basis_ising.index('1'*L)]=1.0 # set index corresponding to state '11...1' to value 1.0\n",
    "psi_cat/=np.linalg.norm(psi_cat) # normalize state\n",
    "\n",
    "### pre-allocate memory to store value of observables\n",
    "psi_cat_t = np.zeros((basis_ising.Ns,N_timesteps), dtype=np.complex128 ) # to-be evolved state\n",
    "E_t = np.zeros(N_timesteps, dtype=np.float64 ) # to-be energy expectations\n",
    "Sent_t = np.zeros(N_timesteps, dtype=np.float64 ) # to-be entanglement entropies density\n",
    "\n",
    "### compute time evolution using a recursive time loop\n",
    "psi_cat_t[:,0] = psi_cat[:] # set initial state, [:] copies memory view\n",
    "E_t[0] = H_Ising.expt_value(psi_cat).real # set initial energy value\n",
    "Sent_t[0] = basis_ising.ent_entropy(psi_cat,)['Sent_A'] # set initial entanglement entropy value\n",
    "\n",
    "# run time evolution\n",
    "for j in np.arange(N_timesteps-1):\n",
    "    # evolve\n",
    "\tpsi_cat_t[:,j+1] = U_dt @ psi_cat_t[:,j] # evolve state one step forward\n",
    "\t# measure\n",
    "\tE_t[j+1] = H_Ising.expt_value(psi_cat_t[:,j+1]).real # <psi(t)|H_Ising|psi(t)>\n",
    "\tSent_t[j+1] = basis_ising.ent_entropy(psi_cat_t[:,j+1])['Sent_A'] # entanglement density of half chain\n",
    "\n",
    "### plot results\n",
    "plt.plot(times, E_t/basis_ising.L, label='$E(t)/L$')\n",
    "plt.plot(times, Sent_t, label='$S_\\mathrm{ent}^\\mathrm{vN}(t)/L_A$')\n",
    "plt.xlabel('time $Jt$')\n",
    "plt.legend()\n",
    "plt.show()"
   ]
  },
  {
   "cell_type": "markdown",
   "id": "4e60c515-a892-43e9-a5d0-cc1f60a4fa9c",
   "metadata": {},
   "source": [
    "### Driven Hamiltonians: Floquet system\n",
    "\n",
    "Now, let's code a driven system. Once again we start from a cat initial state, but this time we want to evolve it under the time-periodic Ising Hamiltonian\n",
    "\n",
    "$$ H_\\text{Ising}(t) = \\sum_j J_{zz} \\sigma^z_j \\sigma^z_{j+1} + h_x\\sigma^x_j + h_z \\cos(\\omega t) \\sigma^z_j = H_0 + f(t) H_1 $$\n",
    "\n",
    "`quspin` encodes driven Hamiltonian by storing separately \n",
    "* the time-independent (static) part $H_0$, \n",
    "* the time-dependent (dynamic) part given together by the drive $f(t)$, and \n",
    "* the operator $H_1$. \n",
    "\n",
    "Coding up such a Hamiltonian proceeds as before, except now we need to define the drive $f(t)$ and pass it to the `dynamic_terms` list:"
   ]
  },
  {
   "cell_type": "code",
   "execution_count": 137,
   "id": "7862977c-a136-4e00-a331-885f2daa86f2",
   "metadata": {},
   "outputs": [
    {
     "name": "stdout",
     "output_type": "stream",
     "text": [
      "Hermiticity check passed!\n",
      "Symmetry checks passed!\n",
      "static mat: \n",
      "  (0, 0)\t(9+0j)\n",
      "  (0, 1)\t(1+0j)\n",
      "  (0, 2)\t(1+0j)\n",
      "  (0, 4)\t(1+0j)\n",
      "  (0, 8)\t(1+0j)\n",
      "  (0, 16)\t(1+0j)\n",
      "  (0, 32)\t(1+0j)\n",
      "  (0, 64)\t(1+0j)\n",
      "  (0, 128)\t(1+0j)\n",
      "  (0, 256)\t(1+0j)\n",
      "  (0, 512)\t(1+0j)\n",
      "  (1, 0)\t(1+0j)\n",
      "  (1, 1)\t(7+0j)\n",
      "  (1, 3)\t(1+0j)\n",
      "  (1, 5)\t(1+0j)\n",
      "  (1, 9)\t(1+0j)\n",
      "  (1, 17)\t(1+0j)\n",
      "  (1, 33)\t(1+0j)\n",
      "  (1, 65)\t(1+0j)\n",
      "  (1, 129)\t(1+0j)\n",
      "  (1, 257)\t(1+0j)\n",
      "  (1, 513)\t(1+0j)\n",
      "  (2, 0)\t(1+0j)\n",
      "  (2, 2)\t(5+0j)\n",
      "  (2, 3)\t(1+0j)\n",
      "  :\t:\n",
      "  (1021, 1020)\t(1+0j)\n",
      "  (1021, 1021)\t(5+0j)\n",
      "  (1021, 1023)\t(1+0j)\n",
      "  (1022, 510)\t(1+0j)\n",
      "  (1022, 766)\t(1+0j)\n",
      "  (1022, 894)\t(1+0j)\n",
      "  (1022, 958)\t(1+0j)\n",
      "  (1022, 990)\t(1+0j)\n",
      "  (1022, 1006)\t(1+0j)\n",
      "  (1022, 1014)\t(1+0j)\n",
      "  (1022, 1018)\t(1+0j)\n",
      "  (1022, 1020)\t(1+0j)\n",
      "  (1022, 1022)\t(7+0j)\n",
      "  (1022, 1023)\t(1+0j)\n",
      "  (1023, 511)\t(1+0j)\n",
      "  (1023, 767)\t(1+0j)\n",
      "  (1023, 895)\t(1+0j)\n",
      "  (1023, 959)\t(1+0j)\n",
      "  (1023, 991)\t(1+0j)\n",
      "  (1023, 1007)\t(1+0j)\n",
      "  (1023, 1015)\t(1+0j)\n",
      "  (1023, 1019)\t(1+0j)\n",
      "  (1023, 1021)\t(1+0j)\n",
      "  (1023, 1022)\t(1+0j)\n",
      "  (1023, 1023)\t(9+0j)\n",
      "\n",
      "\n",
      "dynamic:\n",
      "0) func: drive, mat: \n",
      "  (0, 0)\t(10+0j)\n",
      "  (1, 1)\t(8+0j)\n",
      "  (2, 2)\t(8+0j)\n",
      "  (3, 3)\t(6+0j)\n",
      "  (4, 4)\t(8+0j)\n",
      "  (5, 5)\t(6+0j)\n",
      "  (6, 6)\t(6+0j)\n",
      "  (7, 7)\t(4+0j)\n",
      "  (8, 8)\t(8+0j)\n",
      "  (9, 9)\t(6+0j)\n",
      "  (10, 10)\t(6+0j)\n",
      "  (11, 11)\t(4+0j)\n",
      "  (12, 12)\t(6+0j)\n",
      "  (13, 13)\t(4+0j)\n",
      "  (14, 14)\t(4+0j)\n",
      "  (15, 15)\t(2+0j)\n",
      "  (16, 16)\t(8+0j)\n",
      "  (17, 17)\t(6+0j)\n",
      "  (18, 18)\t(6+0j)\n",
      "  (19, 19)\t(4+0j)\n",
      "  (20, 20)\t(6+0j)\n",
      "  (21, 21)\t(4+0j)\n",
      "  (22, 22)\t(4+0j)\n",
      "  (23, 23)\t(2+0j)\n",
      "  (24, 24)\t(6+0j)\n",
      "  :\t:\n",
      "  (999, 999)\t(-6+0j)\n",
      "  (1000, 1000)\t(-2+0j)\n",
      "  (1001, 1001)\t(-4+0j)\n",
      "  (1002, 1002)\t(-4+0j)\n",
      "  (1003, 1003)\t(-6+0j)\n",
      "  (1004, 1004)\t(-4+0j)\n",
      "  (1005, 1005)\t(-6+0j)\n",
      "  (1006, 1006)\t(-6+0j)\n",
      "  (1007, 1007)\t(-8+0j)\n",
      "  (1008, 1008)\t(-2+0j)\n",
      "  (1009, 1009)\t(-4+0j)\n",
      "  (1010, 1010)\t(-4+0j)\n",
      "  (1011, 1011)\t(-6+0j)\n",
      "  (1012, 1012)\t(-4+0j)\n",
      "  (1013, 1013)\t(-6+0j)\n",
      "  (1014, 1014)\t(-6+0j)\n",
      "  (1015, 1015)\t(-8+0j)\n",
      "  (1016, 1016)\t(-4+0j)\n",
      "  (1017, 1017)\t(-6+0j)\n",
      "  (1018, 1018)\t(-6+0j)\n",
      "  (1019, 1019)\t(-8+0j)\n",
      "  (1020, 1020)\t(-6+0j)\n",
      "  (1021, 1021)\t(-8+0j)\n",
      "  (1022, 1022)\t(-8+0j)\n",
      "  (1023, 1023)\t(-10+0j) \n",
      "\n"
     ]
    }
   ],
   "source": [
    "# construct basis\n",
    "L = 10 # three spins\n",
    "basis_ising_t = spin_basis_1d(L=L,)\n",
    "\n",
    "# define coupling lists\n",
    "Jzz_list = [[Jzz,j,j+1] for j in range(L-1)] # L-1 bonds\n",
    "hz_list  = [[hz,j] for j in range(L)] # L sites\n",
    "hx_list  = [[hx,j] for j in range(L)] # L sites\n",
    "\n",
    "# define drive function\n",
    "omega = 4.0 # drive frequency\n",
    "def drive(t, omega): # first argument must be time, followed by extra parameters if any\n",
    "\treturn np.cos(omega*t)\n",
    "drive_args=(omega,) # tuple containing parameters of drive (all arguments passed, except time t)\n",
    "\n",
    "# define Hamiltonian\n",
    "static_terms = [['zz',Jzz_list], ['x',hx_list], ] # as before (see above)\n",
    "dynamic_terms =[['z',hz_list, drive, drive_args],] # add drive function and its arguments to this list\n",
    "H_Ising_t = hamiltonian(static_terms,dynamic_terms, basis=basis_ising_t) # note we also pass dynamic_terms\n",
    "\n",
    "print(H_Ising_t)"
   ]
  },
  {
   "cell_type": "markdown",
   "id": "1d92cb95-5745-4cb8-8684-05c44ca4ffc0",
   "metadata": {},
   "source": [
    "As you can see, now the Hamiltonian contains both the static operator $H_0$, as well as the dynamics operator $H_1$; note also that the dynamic part also contains the function $f(t)$ which we called `drive`.\n",
    "\n",
    "The Hamiltonian can be evaluated at any fixed time $t$ as follows:"
   ]
  },
  {
   "cell_type": "code",
   "execution_count": 138,
   "id": "66da1617-2259-47ed-884c-50282e17e942",
   "metadata": {},
   "outputs": [
    {
     "name": "stdout",
     "output_type": "stream",
     "text": [
      "[[ 7.43 +0.j  1.   +0.j  1.   +0.j ...  0.   +0.j  0.   +0.j  0.   +0.j]\n",
      " [ 1.   +0.j  5.744+0.j  0.   +0.j ...  0.   +0.j  0.   +0.j  0.   +0.j]\n",
      " [ 1.   +0.j  0.   +0.j  3.744+0.j ...  0.   +0.j  0.   +0.j  0.   +0.j]\n",
      " ...\n",
      " [ 0.   +0.j  0.   +0.j  0.   +0.j ...  6.256+0.j  0.   +0.j  1.   +0.j]\n",
      " [ 0.   +0.j  0.   +0.j  0.   +0.j ...  0.   +0.j  8.256+0.j  1.   +0.j]\n",
      " [ 0.   +0.j  0.   +0.j  0.   +0.j ...  1.   +0.j  1.   +0.j 10.57 +0.j]]\n"
     ]
    }
   ],
   "source": [
    "print(H_Ising_t(time=0.4321).toarray()) # evaluate H(t) at some fixed time t"
   ]
  },
  {
   "cell_type": "markdown",
   "id": "cdcd1ded-18f5-4bc1-a174-069d71d1f4fe",
   "metadata": {},
   "source": [
    "We can also compute expectation values of the Hamiltonian at a fixed parametric time $t$, e.g.,\n",
    "\n",
    "$$ E_\\text{inst}(t) = \\langle{\\text{cat}} | H_\\text{Ising}(t) |{\\text{cat}}\\rangle, $$\n",
    "\n",
    "by adding the optional flag `time`; by default `time=0` (see documentation). Note that this quantity is different from the energy of the time-evolved state $ E(t) = \\langle{\\text{cat}(t)} | H(0) |{\\text{cat}(t)}\\rangle$!"
   ]
  },
  {
   "cell_type": "code",
   "execution_count": 139,
   "id": "2d0ece3e-9c56-4443-af28-f2d62a4d2af7",
   "metadata": {},
   "outputs": [],
   "source": [
    "E_inst = H_Ising_t.expt_value(psi_cat,time=0.9876) # compute <cat|H(t)|cat>"
   ]
  },
  {
   "cell_type": "markdown",
   "id": "8baa70f7-f1bc-4c00-8a38-4eb8babbfc45",
   "metadata": {},
   "source": [
    "Time-evolving the initial cat state in time requires us to solve the time-*dependent* Schroedigner equation. This can be done with the help of a numerical integrator (e.g., a Runge-Kutta solver). \n",
    "\n",
    "Luckily, in `quspin` you don't have to know any of these details. Indeed, since every Hamiltonian generates a time evolution, `hamiltonian` objects come with an `evolve` method to time-propagate states. \n",
    "\n",
    "Let's see how this works in practice. We'll use the same definition of the `times` vector and initial cat state `psi_cat` defined above."
   ]
  },
  {
   "cell_type": "code",
   "execution_count": 140,
   "id": "d9a74639-3840-4fc8-becd-86c50994ab1c",
   "metadata": {},
   "outputs": [
    {
     "name": "stdout",
     "output_type": "stream",
     "text": [
      "shape of evolved state array is (1024, 101)\n"
     ]
    }
   ],
   "source": [
    "# evolving the initial state psi_0, from initial time times[0]\n",
    "psi_t = H_Ising_t.evolve(psi_cat, times[0], times) # contains solution at all time points in times\n",
    "print('shape of evolved state array is {}'.format(psi_t.shape) )"
   ]
  },
  {
   "cell_type": "markdown",
   "id": "6e98ec13-502b-4476-98c3-cd9258400bca",
   "metadata": {},
   "source": [
    "As you can see, the output of the `evolve` function is an array that contains each of the 1024 components of the wavefunction of the time-evolved state, evaluated at the 101 time points specified in `times`. This also tells you how to retrieve the state at any given time point.\n",
    "\n",
    "We can now also conveniently measure the energy expectation and entanglement evolution in a single step: "
   ]
  },
  {
   "cell_type": "code",
   "execution_count": 141,
   "id": "a63c9a54-04f3-49cd-9509-2ad610ad44e1",
   "metadata": {},
   "outputs": [
    {
     "data": {
      "image/png": "[encoded data removed]",
      "text/plain": [
       "<Figure size 640x480 with 1 Axes>"
      ]
     },
     "metadata": {},
     "output_type": "display_data"
    }
   ],
   "source": [
    "# compute observables\n",
    "E_t_drive = H_Ising_t.expt_value(psi_t,time=0.0).real # measure <cat(t)|H(0)|cat(t)>\n",
    "Sent_t_drive = basis_ising_t.ent_entropy(psi_t,)['Sent_A'] # measure Sent (density) in evolved state |psi(t)>\n",
    "\n",
    "# plot results\n",
    "plt.plot(times, E_t_drive/basis_ising_t.L, label='$E(t)/L$')\n",
    "plt.plot(times, Sent_t_drive, label='$S_\\mathrm{ent}^\\mathrm{vN}(t)/L_A$')\n",
    "plt.xlabel('time $Jt$')\n",
    "plt.legend()\n",
    "plt.show()"
   ]
  },
  {
   "cell_type": "code",
   "execution_count": null,
   "id": "545f3c6f-b758-4047-97cf-651c76227a1f",
   "metadata": {},
   "outputs": [],
   "source": []
  }
 ],
 "metadata": {
  "kernelspec": {
   "display_name": "Python 3 (ipykernel)",
   "language": "python",
   "name": "python3"
  },
  "language_info": {
   "codemirror_mode": {
    "name": "ipython",
    "version": 3
   },
   "file_extension": ".py",
   "mimetype": "text/x-python",
   "name": "python",
   "nbconvert_exporter": "python",
   "pygments_lexer": "ipython3",
   "version": "3.11.4"
  }
 },
 "nbformat": 4,
 "nbformat_minor": 5
}
